{
 "cells": [
  {
   "cell_type": "code",
   "execution_count": null,
   "id": "c4481798-e611-4129-8e43-8ef932211d2d",
   "metadata": {},
   "outputs": [],
   "source": [
    "import nltk\n",
    "\n",
    "nltk.download('all')"
   ]
  },
  {
   "cell_type": "code",
   "execution_count": null,
   "id": "fca88360-f0f0-405e-91af-124ca3be2afd",
   "metadata": {},
   "outputs": [],
   "source": [
    "# import libraries\n",
    "import pandas as pd\n",
    "\n",
    "import nltk\n",
    "\n",
    "from nltk.sentiment.vader import SentimentIntensityAnalyzer\n",
    "\n",
    "from nltk.corpus import stopwords\n",
    "\n",
    "from nltk.tokenize import word_tokenize\n",
    "\n",
    "from nltk.stem import WordNetLemmatizer\n",
    "\n",
    "# Load the amazon review dataset\n",
    "\n",
    "df = pd.read_csv('https://raw.githubusercontent.com/pycaret/pycaret/master/datasets/amazon.csv')\n",
    "\n",
    "df"
   ]
  },
  {
   "cell_type": "code",
   "execution_count": null,
   "id": "b9a36965-4673-412d-b02b-777b72be5e59",
   "metadata": {},
   "outputs": [],
   "source": [
    "# Tokenize the text\n",
    "idx = 19998\n",
    "df['reviewText'].iloc[idx]"
   ]
  },
  {
   "cell_type": "code",
   "execution_count": null,
   "id": "9934c292-4827-4578-b8d7-c201ebee90b0",
   "metadata": {},
   "outputs": [],
   "source": [
    "tokens = word_tokenize(df['reviewText'].iloc[idx].lower())\n",
    "\n",
    "tokens"
   ]
  },
  {
   "cell_type": "code",
   "execution_count": null,
   "id": "aa5204a5-0aa5-49cb-ab5f-85e84aee79d0",
   "metadata": {},
   "outputs": [],
   "source": [
    "# Remove stop words\n",
    "\n",
    "from nltk.corpus import stopwords\n",
    "eng_stopwords = stopwords.words('english')\n",
    "eng_stopwords[:10]"
   ]
  },
  {
   "cell_type": "code",
   "execution_count": null,
   "id": "4e101990-9e27-4f5c-8739-91883bd5b828",
   "metadata": {},
   "outputs": [],
   "source": [
    "filtered_tokens = [token for token in tokens if token not in stopwords.words('english')]\n",
    "\n",
    "filtered_tokens"
   ]
  },
  {
   "cell_type": "code",
   "execution_count": null,
   "id": "57fee3f5-6e5b-49f2-a51f-99f307cd63cd",
   "metadata": {},
   "outputs": [],
   "source": [
    "# Lemmatize the tokens\n",
    "\n",
    "lemmatizer = WordNetLemmatizer()\n",
    "\n",
    "lemmatized_tokens = [lemmatizer.lemmatize(token) for token in filtered_tokens]\n",
    "\n",
    "lemmatized_tokens"
   ]
  },
  {
   "cell_type": "code",
   "execution_count": null,
   "id": "d686bcda-0cb1-4506-98d4-47c6c4ab0e2d",
   "metadata": {},
   "outputs": [],
   "source": [
    "processed_text = ' '.join(lemmatized_tokens)\n",
    "processed_text"
   ]
  },
  {
   "cell_type": "code",
   "execution_count": null,
   "id": "843d9ed6-a215-4713-9f56-20a695209485",
   "metadata": {},
   "outputs": [],
   "source": [
    "df['reviewText'].iloc[idx]"
   ]
  },
  {
   "cell_type": "code",
   "execution_count": null,
   "id": "4d382fc7-ea24-4180-ae7d-9aacf5cc646b",
   "metadata": {},
   "outputs": [],
   "source": [
    "# create preprocess_text function\n",
    "def preprocess_text(text):\n",
    "\n",
    "    # Tokenize the text\n",
    "\n",
    "    tokens = word_tokenize(text.lower())\n",
    "\n",
    "    # Remove stop words\n",
    "\n",
    "    filtered_tokens = [token for token in tokens if token not in stopwords.words('english')]\n",
    "\n",
    "    # Lemmatize the tokens\n",
    "\n",
    "    lemmatizer = WordNetLemmatizer()\n",
    "\n",
    "    lemmatized_tokens = [lemmatizer.lemmatize(token) for token in filtered_tokens]\n",
    "\n",
    "    # Join the tokens back into a string\n",
    "\n",
    "    processed_text = ' '.join(lemmatized_tokens)\n",
    "\n",
    "    return processed_text\n",
    "\n",
    "# apply the function df\n",
    "\n",
    "df['reviewText'] = df['reviewText'].apply(preprocess_text)\n",
    "df"
   ]
  },
  {
   "cell_type": "code",
   "execution_count": null,
   "id": "96dc153d-f7ff-44f9-81cd-57edbee31e22",
   "metadata": {},
   "outputs": [],
   "source": [
    "# initialize NLTK sentiment analyzer\n",
    "\n",
    "analyzer = SentimentIntensityAnalyzer()\n",
    "\n",
    "\n",
    "# create get_sentiment function\n",
    "\n",
    "def get_sentiment(text):\n",
    "\n",
    "    scores = analyzer.polarity_scores(text)\n",
    "\n",
    "    sentiment = 1 if scores['pos'] > 0 else 0\n",
    "\n",
    "    return sentiment\n",
    "\n",
    "\n",
    "\n",
    "\n",
    "# apply get_sentiment function\n",
    "\n",
    "df['sentiment'] = df['reviewText'].apply(get_sentiment)\n",
    "\n",
    "df"
   ]
  },
  {
   "cell_type": "code",
   "execution_count": null,
   "id": "b45a062c-8601-4fbc-8f1b-81f9f531f586",
   "metadata": {},
   "outputs": [],
   "source": [
    "from sklearn.metrics import confusion_matrix\n",
    "\n",
    "print(confusion_matrix(df['Positive'], df['sentiment']))"
   ]
  },
  {
   "cell_type": "code",
   "execution_count": null,
   "id": "db7b0e73-4a0d-481b-8559-2cd8971fc0d1",
   "metadata": {},
   "outputs": [],
   "source": [
    "from sklearn.metrics import classification_report\n",
    "\n",
    "print(classification_report(df['Positive'], df['sentiment']))"
   ]
  },
  {
   "cell_type": "code",
   "execution_count": null,
   "id": "7011ba20-851c-4bdb-aa0c-86570c7c36ef",
   "metadata": {},
   "outputs": [],
   "source": [
    "# http://text-processing.com/demo/"
   ]
  },
  {
   "cell_type": "code",
   "execution_count": null,
   "id": "8bf1e080-85f3-4e42-bac6-ff1a73c25bd4",
   "metadata": {},
   "outputs": [],
   "source": [
    "from nltk import FreqDist, bigrams\n",
    "import matplotlib.pyplot as plt\n",
    "from collections import Counter\n",
    "import pandas as pd\n",
    "\n",
    "# Combine all reviews into one text to analyze bigrams across the dataset\n",
    "all_text = \" \".join(df['reviewText'].values)\n",
    "\n",
    "# Tokenize and calculate bigram frequencies\n",
    "words = word_tokenize(all_text.lower())\n",
    "bigrams_list = list(bigrams(words))\n",
    "bigram_freq = FreqDist(bigrams_list)\n",
    "\n",
    "# Get the top 10 most common bigrams\n",
    "top_bigrams = bigram_freq.most_common(10)\n",
    "\n",
    "# Prepare data for visualization\n",
    "bigram_words = [\" \".join(bigram) for bigram, freq in top_bigrams]\n",
    "bigram_counts = [freq for bigram, freq in top_bigrams]\n",
    "\n",
    "# Plot\n",
    "plt.figure(figsize=(10, 6))\n",
    "plt.barh(bigram_words, bigram_counts, color=\"skyblue\")\n",
    "plt.xlabel(\"Frequency\")\n",
    "plt.title(\"Top 10 Most Common Bigrams\")\n",
    "plt.gca().invert_yaxis()  # Invert y-axis to have the most frequent bigram at the top\n",
    "plt.show()\n"
   ]
  },
  {
   "cell_type": "code",
   "execution_count": null,
   "id": "8bbfd730-8d92-4d3e-b869-0335d88e1bc3",
   "metadata": {},
   "outputs": [],
   "source": [
    "from wordcloud import WordCloud\n",
    "import matplotlib.pyplot as plt\n",
    "\n",
    "# Separate positive and negative reviews\n",
    "positive_reviews = \" \".join(df[df['sentiment'] == 1]['reviewText'])\n",
    "negative_reviews = \" \".join(df[df['sentiment'] == 0]['reviewText'])\n",
    "\n",
    "# Generate word clouds\n",
    "positive_wordcloud = WordCloud(width=800, height=400, background_color='white').generate(positive_reviews)\n",
    "negative_wordcloud = WordCloud(width=800, height=400, background_color='black').generate(negative_reviews)\n",
    "\n",
    "# Plot\n",
    "plt.figure(figsize=(14, 7))\n",
    "plt.subplot(1, 2, 1)\n",
    "plt.imshow(positive_wordcloud, interpolation='bilinear')\n",
    "plt.title(\"Positive Reviews Word Cloud\")\n",
    "plt.axis('off')\n",
    "\n",
    "plt.subplot(1, 2, 2)\n",
    "plt.imshow(negative_wordcloud, interpolation='bilinear')\n",
    "plt.title(\"Negative Reviews Word Cloud\")\n",
    "plt.axis('off')\n",
    "\n",
    "plt.show()\n"
   ]
  },
  {
   "cell_type": "code",
   "execution_count": null,
   "id": "9798d1c1-fa24-4c97-bb74-ed59cd121aec",
   "metadata": {},
   "outputs": [],
   "source": []
  }
 ],
 "metadata": {
  "kernelspec": {
   "display_name": "Python 3 (ipykernel)",
   "language": "python",
   "name": "python3"
  },
  "language_info": {
   "codemirror_mode": {
    "name": "ipython",
    "version": 3
   },
   "file_extension": ".py",
   "mimetype": "text/x-python",
   "name": "python",
   "nbconvert_exporter": "python",
   "pygments_lexer": "ipython3",
   "version": "3.10.15"
  }
 },
 "nbformat": 4,
 "nbformat_minor": 5
}
